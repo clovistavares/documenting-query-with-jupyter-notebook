{
 "cells": [
  {
   "cell_type": "markdown",
   "metadata": {},
   "source": [
    "# DOCUMENTING QUERY "
   ]
  },
  {
   "cell_type": "markdown",
   "metadata": {},
   "source": [
    "Documenting Complex SQL Query Using Jupyter Notebooks"
   ]
  },
  {
   "cell_type": "code",
   "execution_count": 1,
   "metadata": {},
   "outputs": [],
   "source": [
    "import pandas as pd\n",
    "import sqlalchemy as sa\n",
    "import re\n",
    "from sqlalchemy.engine.url import URL\n",
    "import copy"
   ]
  },
  {
   "cell_type": "markdown",
   "metadata": {},
   "source": [
    "# DB CONNECTION"
   ]
  },
  {
   "cell_type": "markdown",
   "metadata": {},
   "source": [
    "For the porpose of this video, we'll be using Chinook database. \n",
    "It’s available for various DBMSs including MySQL, SQL Server, SQL Server Compact, PostgreSQL, Oracle, DB2, and of course, SQLite. \n",
    "It was created as an alternative to the Northwind database. It represents a digital media store, including tables for artists, albums, media tracks, invoices and customers"
   ]
  },
  {
   "cell_type": "markdown",
   "metadata": {},
   "source": [
    "The Chinook database is available on GitHub: https://github.com/lerocha/chinook-database/blob/master/ChinookDatabase/DataSources/Chinook_Sqlite_AutoIncrementPKs.sqlite"
   ]
  },
  {
   "cell_type": "code",
   "execution_count": 2,
   "metadata": {},
   "outputs": [
    {
     "name": "stdout",
     "output_type": "stream",
     "text": [
      "Engine(sqlite:///Chinook_Sqlite_AutoIncrementPKs.sqlite)\n"
     ]
    }
   ],
   "source": [
    "conn_params = {\n",
    "    \"drivername\": \"sqlite\",\n",
    "    \"database\": \"Chinook_Sqlite_AutoIncrementPKs.sqlite\"\n",
    "}\n",
    "url = URL.create(**conn_params)\n",
    "engine = sa.create_engine(url, echo = False)\n",
    "print(engine)"
   ]
  },
  {
   "cell_type": "markdown",
   "metadata": {},
   "source": [
    "# BUILD QUERY"
   ]
  },
  {
   "cell_type": "code",
   "execution_count": 3,
   "metadata": {},
   "outputs": [],
   "source": [
    "query_parts = {}"
   ]
  },
  {
   "cell_type": "markdown",
   "metadata": {},
   "source": [
    "## CustomerId"
   ]
  },
  {
   "cell_type": "markdown",
   "metadata": {},
   "source": [
    "Here is where you put some comment, explanations, ... about this field, so couple years later / someone else can make sense of it"
   ]
  },
  {
   "cell_type": "code",
   "execution_count": 4,
   "metadata": {},
   "outputs": [],
   "source": [
    "field = 'CustomerId'\n",
    "table = 'Customer'\n",
    "query_parts[field] = {\n",
    "    'name': field,\n",
    "    'description': f'very desriptive description for {field}',\n",
    "    'select': f'SELECT CAST(\"T1\".\"{field}\" AS INT) AS \"{field}\"\\n',\n",
    "    'from': f'FROM \"{table}\" AS \"T1\"\\n',\n",
    "    'order_by': f'ORDER BY \"T1\".\"{field}\" ASC'\n",
    "}"
   ]
  },
  {
   "cell_type": "markdown",
   "metadata": {},
   "source": [
    "## FirstName"
   ]
  },
  {
   "cell_type": "markdown",
   "metadata": {},
   "source": [
    "Here is where you put some comment, explanations, ... about this field, so couple years later / someone else can make sense of it"
   ]
  },
  {
   "cell_type": "code",
   "execution_count": 5,
   "metadata": {},
   "outputs": [],
   "source": [
    "field = 'FirstName'\n",
    "query_parts[field] = {\n",
    "    'name': field,\n",
    "    'description': f'very desriptive description for {field}',\n",
    "    'select': f'    ,\"T1\".\"{field}\" AS \"{field}\"\\n'\n",
    "}"
   ]
  },
  {
   "cell_type": "markdown",
   "metadata": {},
   "source": [
    "## LastName"
   ]
  },
  {
   "cell_type": "markdown",
   "metadata": {},
   "source": [
    "Here is where you put some comment, explanations, ... about this field, so couple years later / someone else can make sense of it"
   ]
  },
  {
   "cell_type": "code",
   "execution_count": 6,
   "metadata": {},
   "outputs": [],
   "source": [
    "field = 'LastName'\n",
    "query_parts[field] = {\n",
    "    'name': field,\n",
    "    'description': f'very desriptive description for {field}',\n",
    "    'select': f'    ,\"T1\".\"{field}\" AS \"{field}\"\\n'\n",
    "}"
   ]
  },
  {
   "cell_type": "markdown",
   "metadata": {},
   "source": [
    "## City"
   ]
  },
  {
   "cell_type": "markdown",
   "metadata": {},
   "source": [
    "Here is where you put some comment, explanations, ... about this field, so couple years later / someone else can make sense of it"
   ]
  },
  {
   "cell_type": "code",
   "execution_count": 7,
   "metadata": {},
   "outputs": [],
   "source": [
    "field = 'City'\n",
    "query_parts[field] = {\n",
    "    'name': field,\n",
    "    'description': f'very desriptive description for {field}',\n",
    "    'select': f'    ,\"T1\".\"{field}\" AS \"{field}\"\\n'\n",
    "}"
   ]
  },
  {
   "cell_type": "markdown",
   "metadata": {},
   "source": [
    "## State"
   ]
  },
  {
   "cell_type": "markdown",
   "metadata": {},
   "source": [
    "Here is where you put some comment, explanations, ... about this field, so couple years later / someone else can make sense of it"
   ]
  },
  {
   "cell_type": "code",
   "execution_count": 8,
   "metadata": {},
   "outputs": [],
   "source": [
    "field = 'State'\n",
    "query_parts[field] = {\n",
    "    'name': field,\n",
    "    'description': f'very desriptive description for {field}',\n",
    "    'select': f'    ,TRIM(\"T1\".\"{field}\") AS \"{field}\"\\n'\n",
    "}"
   ]
  },
  {
   "cell_type": "markdown",
   "metadata": {},
   "source": [
    "## Country"
   ]
  },
  {
   "cell_type": "markdown",
   "metadata": {},
   "source": [
    "Here is where you put some comment, explanations, ... about this field, so couple years later / someone else can make sense of it"
   ]
  },
  {
   "cell_type": "code",
   "execution_count": 9,
   "metadata": {},
   "outputs": [],
   "source": [
    "field = 'Country'\n",
    "query_parts[field] = {\n",
    "    'name': field,\n",
    "    'description': f'very desriptive description for {field}',\n",
    "    'select': f'    ,TRIM(\"T1\".\"{field}\") AS \"{field}\"\\n'\n",
    "}"
   ]
  },
  {
   "cell_type": "markdown",
   "metadata": {},
   "source": [
    "## IsSouthAmerican (S/N)"
   ]
  },
  {
   "cell_type": "markdown",
   "metadata": {},
   "source": [
    "For exemple, for some reason I need to identify if a customer is southamerican or not, and supose that the way to do it is to chck the Country, I'd need to just call Country with a @ sign ex. @Country, it ould be replace for the real sql in the field Country (TRIM(\"T1\".\"Country\")), but imagine that for a complex field"
   ]
  },
  {
   "cell_type": "code",
   "execution_count": 10,
   "metadata": {},
   "outputs": [],
   "source": [
    "field = 'IsSouthAmerican'\n",
    "select = f\"\"\"    ,CASE\n",
    "        WHEN @Country IN ('Brazil', 'Chile') THEN 'S'\n",
    "        ELSE 'N'\n",
    "    END AS \"{field}\"\\n\"\"\"\n",
    "query_parts[field] = {\n",
    "    'name': field,\n",
    "    'description': f'very desriptive description for {field}',\n",
    "    'select': select\n",
    "}"
   ]
  },
  {
   "cell_type": "markdown",
   "metadata": {},
   "source": [
    "## InvoiceId"
   ]
  },
  {
   "cell_type": "markdown",
   "metadata": {},
   "source": [
    "Exemple of a Join and calculated column (@CustomerId) in the join condition"
   ]
  },
  {
   "cell_type": "code",
   "execution_count": 11,
   "metadata": {},
   "outputs": [],
   "source": [
    "field = \"InvoiceId\"\n",
    "select = f\"\"\"   ,\"T2\".\"{field}\" AS \"{field}\"\\n\"\"\"\n",
    "join = \"\"\"LEFT OUTER JOIN \"Invoice\" AS \"T2\" ON \"T2\".\"CustomerId\" = @CustomerId\\n\"\"\"\n",
    "query_parts[field] = {\n",
    "    'name': field,\n",
    "    'description': f'very desriptive description for {field}',\n",
    "    'select': select,\n",
    "    'join': join\n",
    "}"
   ]
  },
  {
   "cell_type": "markdown",
   "metadata": {},
   "source": [
    "## InvoiceDate"
   ]
  },
  {
   "cell_type": "code",
   "execution_count": 12,
   "metadata": {},
   "outputs": [],
   "source": [
    "field = \"InvoiceDate\"\n",
    "select = f\"\"\"   ,\"T2\".\"{field}\" AS \"{field}\"\\n\"\"\"\n",
    "query_parts[field] = {\n",
    "    'name': field,\n",
    "    'description': f'very desriptive description for {field}',\n",
    "    'select': select,\n",
    "}"
   ]
  },
  {
   "cell_type": "markdown",
   "metadata": {},
   "source": [
    "## YearInvoice"
   ]
  },
  {
   "cell_type": "code",
   "execution_count": 13,
   "metadata": {},
   "outputs": [],
   "source": [
    "field = \"YearInvoice\"\n",
    "select = f\"\"\"   ,CAST(STRFTIME('%Y', @InvoiceDate) AS INT) AS \"{field}\"\\n\"\"\"\n",
    "query_parts[field] = {\n",
    "    'name': field,\n",
    "    'description': f'very desriptive description for {field}',\n",
    "    'select': select,\n",
    "}"
   ]
  },
  {
   "cell_type": "markdown",
   "metadata": {},
   "source": [
    "## MonthInvoice"
   ]
  },
  {
   "cell_type": "code",
   "execution_count": 14,
   "metadata": {},
   "outputs": [],
   "source": [
    "field = \"MonthInvoice\"\n",
    "select = f\"\"\"   ,CAST(STRFTIME('%m', @InvoiceDate) AS INT) AS \"{field}\"\\n\"\"\"\n",
    "query_parts[field] = {\n",
    "    'name': field,\n",
    "    'description': f'very desriptive description for {field}',\n",
    "    'select': select,\n",
    "}"
   ]
  },
  {
   "cell_type": "markdown",
   "metadata": {},
   "source": [
    "## BillingCity"
   ]
  },
  {
   "cell_type": "code",
   "execution_count": 15,
   "metadata": {},
   "outputs": [],
   "source": [
    "field = \"BillingCity\"\n",
    "select = f\"\"\"   ,\"T2\".\"{field}\" AS \"{field}\"\\n\"\"\"\n",
    "query_parts[field] = {\n",
    "    'name': field,\n",
    "    'description': f'very desriptive description for {field}',\n",
    "    'select': select,\n",
    "}"
   ]
  },
  {
   "cell_type": "markdown",
   "metadata": {},
   "source": [
    "## BillingState"
   ]
  },
  {
   "cell_type": "code",
   "execution_count": 16,
   "metadata": {},
   "outputs": [],
   "source": [
    "field = \"BillingState\"\n",
    "select = f\"\"\"   ,\"T2\".\"{field}\" AS \"{field}\"\\n\"\"\"\n",
    "query_parts[field] = {\n",
    "    'name': field,\n",
    "    'description': f'very desriptive description for {field}',\n",
    "    'select': select,\n",
    "}"
   ]
  },
  {
   "cell_type": "markdown",
   "metadata": {},
   "source": [
    "## BillingCountry"
   ]
  },
  {
   "cell_type": "code",
   "execution_count": 17,
   "metadata": {},
   "outputs": [],
   "source": [
    "field = \"BillingCountry\"\n",
    "select = f\"\"\"   ,\"T2\".\"{field}\" AS \"{field}\"\\n\"\"\"\n",
    "query_parts[field] = {\n",
    "    'name': field,\n",
    "    'description': f'very desriptive description for {field}',\n",
    "    'select': select,\n",
    "}"
   ]
  },
  {
   "cell_type": "markdown",
   "metadata": {},
   "source": [
    "## Total"
   ]
  },
  {
   "cell_type": "code",
   "execution_count": 18,
   "metadata": {},
   "outputs": [],
   "source": [
    "field = \"Total\"\n",
    "select = f\"\"\"   ,CAST(\"T2\".\"{field}\" AS FLOAT) AS \"{field}\"\\n\"\"\"\n",
    "query_parts[field] = {\n",
    "    'name': field,\n",
    "    'description': f'very desriptive description for {field}',\n",
    "    'select': select,\n",
    "}"
   ]
  },
  {
   "cell_type": "markdown",
   "metadata": {},
   "source": [
    "## InvoiceLineId"
   ]
  },
  {
   "cell_type": "code",
   "execution_count": 19,
   "metadata": {},
   "outputs": [],
   "source": [
    "field = \"InvoiceLineId\"\n",
    "select = f\"\"\"   ,\"T3\".\"{field}\" AS \"{field}\"\\n\"\"\"\n",
    "join = \"\"\"LEFT OUTER JOIN (\n",
    "    SELECT DISTINCT *\n",
    "    FROM \"InvoiceLine\"\n",
    ") AS \"T3\" ON \"T3\".\"InvoiceId\" = @InvoiceId\\n\"\"\"\n",
    "query_parts[field] = {\n",
    "    'name': field,\n",
    "    'description': f'very desriptive description for {field}',\n",
    "    'select': select,\n",
    "    'join': join\n",
    "}"
   ]
  },
  {
   "cell_type": "markdown",
   "metadata": {},
   "source": [
    "## UnitPrice"
   ]
  },
  {
   "cell_type": "code",
   "execution_count": 20,
   "metadata": {},
   "outputs": [],
   "source": [
    "field = \"UnitPrice\"\n",
    "select = f\"\"\"   ,CAST(\"T3\".\"{field}\" AS FLOAT) AS \"{field}\"\\n\"\"\"\n",
    "query_parts[field] = {\n",
    "    'name': field,\n",
    "    'description': f'very desriptive description for {field}',\n",
    "    'select': select,\n",
    "}"
   ]
  },
  {
   "cell_type": "markdown",
   "metadata": {},
   "source": [
    "## Quantity"
   ]
  },
  {
   "cell_type": "code",
   "execution_count": 21,
   "metadata": {},
   "outputs": [],
   "source": [
    "field = \"Quantity\"\n",
    "select = f\"\"\"   ,CAST(\"T3\".\"{field}\" AS FLOAT) AS \"{field}\"\\n\"\"\"\n",
    "query_parts[field] = {\n",
    "    'name': field,\n",
    "    'description': f'very desriptive description for {field}',\n",
    "    'select': select,\n",
    "}"
   ]
  },
  {
   "cell_type": "markdown",
   "metadata": {},
   "source": [
    "## TotalLine"
   ]
  },
  {
   "cell_type": "code",
   "execution_count": 22,
   "metadata": {},
   "outputs": [],
   "source": [
    "field = \"TotalLine\"\n",
    "select = f\"\"\"   ,(@Quantity * @UnitPrice) AS \"{field}\"\\n\"\"\"\n",
    "query_parts[field] = {\n",
    "    'name': field,\n",
    "    'description': f'very desriptive description for {field}',\n",
    "    'select': select,\n",
    "}"
   ]
  },
  {
   "cell_type": "markdown",
   "metadata": {},
   "source": [
    "## TotalForCostomer"
   ]
  },
  {
   "cell_type": "code",
   "execution_count": 23,
   "metadata": {},
   "outputs": [],
   "source": [
    "field = \"TotalForCostomer\"\n",
    "select = f\"\"\"   ,SUM(@TotalLine)\n",
    "        OVER(\n",
    "            PARTITION BY @CustomerId\n",
    "            ROWS BETWEEN UNBOUNDED PRECEDING AND UNBOUNDED FOLLOWING\n",
    "        ) AS \"{field}\"\\n\"\"\"\n",
    "query_parts[field] = {\n",
    "    'name': field,\n",
    "    'description': f'very desriptive description for {field}',\n",
    "    'select': select,\n",
    "}"
   ]
  },
  {
   "cell_type": "markdown",
   "metadata": {},
   "source": [
    "## TotalForCostomerAndYear"
   ]
  },
  {
   "cell_type": "code",
   "execution_count": 24,
   "metadata": {},
   "outputs": [],
   "source": [
    "field = \"TotalForCostomerAndYear\"\n",
    "select = f\"\"\"   ,SUM(@TotalLine)\n",
    "        OVER(\n",
    "            PARTITION BY @CustomerId, @YearInvoice\n",
    "            ROWS BETWEEN UNBOUNDED PRECEDING AND UNBOUNDED FOLLOWING\n",
    "        ) AS \"{field}\"\\n\"\"\"\n",
    "query_parts[field] = {\n",
    "    'name': field,\n",
    "    'description': f'very desriptive description for {field}',\n",
    "    'select': select,\n",
    "}"
   ]
  },
  {
   "cell_type": "markdown",
   "metadata": {},
   "source": [
    "## TotalForCostomerAndMonth"
   ]
  },
  {
   "cell_type": "code",
   "execution_count": 25,
   "metadata": {},
   "outputs": [],
   "source": [
    "field = \"TotalForCostomerAndMonth\"\n",
    "select = f\"\"\"   ,SUM(@TotalLine)\n",
    "        OVER(\n",
    "            PARTITION BY @CustomerId, @YearInvoice, @MonthInvoice\n",
    "            ROWS BETWEEN UNBOUNDED PRECEDING AND UNBOUNDED FOLLOWING\n",
    "        ) AS \"{field}\"\\n\"\"\"\n",
    "query_parts[field] = {\n",
    "    'name': field,\n",
    "    'description': f'very desriptive description for {field}',\n",
    "    'select': select,\n",
    "}"
   ]
  },
  {
   "cell_type": "markdown",
   "metadata": {},
   "source": [
    "# COMPILE QUERY PARTS"
   ]
  },
  {
   "cell_type": "code",
   "execution_count": 33,
   "metadata": {},
   "outputs": [],
   "source": [
    "def buildQuery(query_parts):\n",
    "    query_parts_copy = copy.deepcopy(query_parts)\n",
    "    query = ''\n",
    "    aux_q = {\n",
    "        'name': '',\n",
    "        'description': '',\n",
    "        'select': '',\n",
    "        'from': '',\n",
    "        'join': '',\n",
    "        'where': '',\n",
    "        'group_by': '',\n",
    "        'having': '',\n",
    "        'window': '',\n",
    "        'order_by': '',\n",
    "        'limit': '',\n",
    "        'offset': ''\n",
    "    }\n",
    "    for field in query_parts_copy:\n",
    "        for clause in query_parts_copy[field]:\n",
    "            # REPLACE CALCULATED FIELDS (@FIELD_NAME) FOR ITS CONTENT\n",
    "            patt_find_calc_fields = re.compile(r'@\\w+', re.IGNORECASE)\n",
    "            fields_start_with_at_sign =  re.findall(patt_find_calc_fields, query_parts_copy[field][clause])\n",
    "            if len(fields_start_with_at_sign) > 0:\n",
    "                #print(fields_start_with_at_sign)\n",
    "                for col in fields_start_with_at_sign:\n",
    "                    column = col.replace('@', '')\n",
    "                    field_data = query_parts_copy[column]['select']\n",
    "                    field_data = re.sub(re.compile(r'\\n'), '', field_data)\n",
    "                    field_data = re.sub(re.compile(r'\\t'), '', field_data)\n",
    "                    pattern = re.compile(r'\\s+(AS)?\\s+[\\\"]?{fld}[\\\"]?\\w?'.format(fld = column), re.IGNORECASE)\n",
    "                    field_data = re.sub(pattern, '', field_data)\n",
    "                    pattern = re.compile(r'^(\\W+)?SELECT\\s+?', re.IGNORECASE)\n",
    "                    field_data = re.sub(pattern, '', field_data)\n",
    "                    field_data = re.sub(re.compile(r'^\\W?,'), '', field_data)\n",
    "                    field_data = re.sub(re.compile(r'^\\W+?,'), '', field_data)\n",
    "                    field_data = re.sub(re.compile(r'\\s+?$'), '', field_data)\n",
    "                    pattern = re.compile(r'@\\b{fld}\\b'.format(fld = column), re.IGNORECASE)\n",
    "                    # print(col, '->', field_data)\n",
    "                    query_parts_copy[field][clause] = re.sub(pattern, field_data, query_parts_copy[field][clause])\n",
    "            if clause in aux_q:\n",
    "                aux_q[clause] += query_parts_copy[field][clause]    \n",
    "    query = f\"\"\"{aux_q['select']}{aux_q['from']}{aux_q['join']}{aux_q['where']}{aux_q['group_by']}{aux_q['having']}{aux_q['window']}{aux_q['order_by']}{aux_q['limit']}{aux_q['offset']}\"\"\"\n",
    "    return query.strip()"
   ]
  },
  {
   "cell_type": "code",
   "execution_count": 34,
   "metadata": {},
   "outputs": [],
   "source": [
    "query = buildQuery(query_parts)"
   ]
  },
  {
   "cell_type": "code",
   "execution_count": 35,
   "metadata": {},
   "outputs": [
    {
     "name": "stdout",
     "output_type": "stream",
     "text": [
      "SELECT CAST(\"T1\".\"CustomerId\" AS INT) AS \"CustomerId\"\n",
      "    ,\"T1\".\"FirstName\" AS \"FirstName\"\n",
      "    ,\"T1\".\"LastName\" AS \"LastName\"\n",
      "    ,\"T1\".\"City\" AS \"City\"\n",
      "    ,TRIM(\"T1\".\"State\") AS \"State\"\n",
      "    ,TRIM(\"T1\".\"Country\") AS \"Country\"\n",
      "    ,CASE\n",
      "        WHEN TRIM(\"T1\".\"Country\") IN ('Brazil', 'Chile') THEN 'S'\n",
      "        ELSE 'N'\n",
      "    END AS \"IsSouthAmerican\"\n",
      "   ,\"T2\".\"InvoiceId\" AS \"InvoiceId\"\n",
      "   ,\"T2\".\"InvoiceDate\" AS \"InvoiceDate\"\n",
      "   ,CAST(STRFTIME('%Y', \"T2\".\"InvoiceDate\") AS INT) AS \"YearInvoice\"\n",
      "   ,CAST(STRFTIME('%m', \"T2\".\"InvoiceDate\") AS INT) AS \"MonthInvoice\"\n",
      "   ,\"T2\".\"BillingCity\" AS \"BillingCity\"\n",
      "   ,\"T2\".\"BillingState\" AS \"BillingState\"\n",
      "   ,\"T2\".\"BillingCountry\" AS \"BillingCountry\"\n",
      "   ,CAST(\"T2\".\"Total\" AS FLOAT) AS \"Total\"\n",
      "   ,\"T3\".\"InvoiceLineId\" AS \"InvoiceLineId\"\n",
      "   ,CAST(\"T3\".\"UnitPrice\" AS FLOAT) AS \"UnitPrice\"\n",
      "   ,CAST(\"T3\".\"Quantity\" AS FLOAT) AS \"Quantity\"\n",
      "   ,(CAST(\"T3\".\"Quantity\" AS FLOAT) * CAST(\"T3\".\"UnitPrice\" AS FLOAT)) AS \"TotalLine\"\n",
      "   ,SUM((CAST(\"T3\".\"Quantity\" AS FLOAT) * CAST(\"T3\".\"UnitPrice\" AS FLOAT)))\n",
      "        OVER(\n",
      "            PARTITION BY CAST(\"T1\".\"CustomerId\" AS INT)\n",
      "            ROWS BETWEEN UNBOUNDED PRECEDING AND UNBOUNDED FOLLOWING\n",
      "        ) AS \"TotalForCostomer\"\n",
      "   ,SUM((CAST(\"T3\".\"Quantity\" AS FLOAT) * CAST(\"T3\".\"UnitPrice\" AS FLOAT)))\n",
      "        OVER(\n",
      "            PARTITION BY CAST(\"T1\".\"CustomerId\" AS INT), CAST(STRFTIME('%Y', \"T2\".\"InvoiceDate\") AS INT)\n",
      "            ROWS BETWEEN UNBOUNDED PRECEDING AND UNBOUNDED FOLLOWING\n",
      "        ) AS \"TotalForCostomerAndYear\"\n",
      "   ,SUM((CAST(\"T3\".\"Quantity\" AS FLOAT) * CAST(\"T3\".\"UnitPrice\" AS FLOAT)))\n",
      "        OVER(\n",
      "            PARTITION BY CAST(\"T1\".\"CustomerId\" AS INT), CAST(STRFTIME('%Y', \"T2\".\"InvoiceDate\") AS INT), CAST(STRFTIME('%m', \"T2\".\"InvoiceDate\") AS INT)\n",
      "            ROWS BETWEEN UNBOUNDED PRECEDING AND UNBOUNDED FOLLOWING\n",
      "        ) AS \"TotalForCostomerAndMonth\"\n",
      "FROM \"Customer\" AS \"T1\"\n",
      "LEFT OUTER JOIN \"Invoice\" AS \"T2\" ON \"T2\".\"CustomerId\" = CAST(\"T1\".\"CustomerId\" AS INT)\n",
      "LEFT OUTER JOIN (\n",
      "    SELECT DISTINCT *\n",
      "    FROM \"InvoiceLine\"\n",
      ") AS \"T3\" ON \"T3\".\"InvoiceId\" = \"T2\".\"InvoiceId\"\n",
      "ORDER BY \"T1\".\"CustomerId\" ASC\n"
     ]
    }
   ],
   "source": [
    "f = open('query.sql', 'w')\n",
    "f.write(query)\n",
    "f.close()\n",
    "print(query.strip())"
   ]
  },
  {
   "cell_type": "markdown",
   "metadata": {},
   "source": [
    "# TEST THE QUERY"
   ]
  },
  {
   "cell_type": "code",
   "execution_count": 38,
   "metadata": {},
   "outputs": [
    {
     "data": {
      "text/plain": [
       "(2240, 22)"
      ]
     },
     "execution_count": 38,
     "metadata": {},
     "output_type": "execute_result"
    }
   ],
   "source": [
    "df = pd.read_sql(sql = query, con = engine)\n",
    "df.shape"
   ]
  },
  {
   "cell_type": "code",
   "execution_count": 39,
   "metadata": {},
   "outputs": [
    {
     "data": {
      "text/html": [
       "<div>\n",
       "<style scoped>\n",
       "    .dataframe tbody tr th:only-of-type {\n",
       "        vertical-align: middle;\n",
       "    }\n",
       "\n",
       "    .dataframe tbody tr th {\n",
       "        vertical-align: top;\n",
       "    }\n",
       "\n",
       "    .dataframe thead th {\n",
       "        text-align: right;\n",
       "    }\n",
       "</style>\n",
       "<table border=\"1\" class=\"dataframe\">\n",
       "  <thead>\n",
       "    <tr style=\"text-align: right;\">\n",
       "      <th></th>\n",
       "      <th>CustomerId</th>\n",
       "      <th>FirstName</th>\n",
       "      <th>LastName</th>\n",
       "      <th>City</th>\n",
       "      <th>State</th>\n",
       "      <th>Country</th>\n",
       "      <th>IsSouthAmerican</th>\n",
       "      <th>InvoiceId</th>\n",
       "      <th>InvoiceDate</th>\n",
       "      <th>YearInvoice</th>\n",
       "      <th>...</th>\n",
       "      <th>BillingState</th>\n",
       "      <th>BillingCountry</th>\n",
       "      <th>Total</th>\n",
       "      <th>InvoiceLineId</th>\n",
       "      <th>UnitPrice</th>\n",
       "      <th>Quantity</th>\n",
       "      <th>TotalLine</th>\n",
       "      <th>TotalForCostomer</th>\n",
       "      <th>TotalForCostomerAndYear</th>\n",
       "      <th>TotalForCostomerAndMonth</th>\n",
       "    </tr>\n",
       "  </thead>\n",
       "  <tbody>\n",
       "    <tr>\n",
       "      <th>0</th>\n",
       "      <td>1</td>\n",
       "      <td>Luís</td>\n",
       "      <td>Gonçalves</td>\n",
       "      <td>São José dos Campos</td>\n",
       "      <td>SP</td>\n",
       "      <td>Brazil</td>\n",
       "      <td>S</td>\n",
       "      <td>98</td>\n",
       "      <td>2010-03-11 00:00:00</td>\n",
       "      <td>2010</td>\n",
       "      <td>...</td>\n",
       "      <td>SP</td>\n",
       "      <td>Brazil</td>\n",
       "      <td>3.98</td>\n",
       "      <td>531</td>\n",
       "      <td>1.99</td>\n",
       "      <td>1.0</td>\n",
       "      <td>1.99</td>\n",
       "      <td>39.62</td>\n",
       "      <td>13.88</td>\n",
       "      <td>3.98</td>\n",
       "    </tr>\n",
       "    <tr>\n",
       "      <th>1</th>\n",
       "      <td>1</td>\n",
       "      <td>Luís</td>\n",
       "      <td>Gonçalves</td>\n",
       "      <td>São José dos Campos</td>\n",
       "      <td>SP</td>\n",
       "      <td>Brazil</td>\n",
       "      <td>S</td>\n",
       "      <td>98</td>\n",
       "      <td>2010-03-11 00:00:00</td>\n",
       "      <td>2010</td>\n",
       "      <td>...</td>\n",
       "      <td>SP</td>\n",
       "      <td>Brazil</td>\n",
       "      <td>3.98</td>\n",
       "      <td>532</td>\n",
       "      <td>1.99</td>\n",
       "      <td>1.0</td>\n",
       "      <td>1.99</td>\n",
       "      <td>39.62</td>\n",
       "      <td>13.88</td>\n",
       "      <td>3.98</td>\n",
       "    </tr>\n",
       "    <tr>\n",
       "      <th>2</th>\n",
       "      <td>1</td>\n",
       "      <td>Luís</td>\n",
       "      <td>Gonçalves</td>\n",
       "      <td>São José dos Campos</td>\n",
       "      <td>SP</td>\n",
       "      <td>Brazil</td>\n",
       "      <td>S</td>\n",
       "      <td>121</td>\n",
       "      <td>2010-06-13 00:00:00</td>\n",
       "      <td>2010</td>\n",
       "      <td>...</td>\n",
       "      <td>SP</td>\n",
       "      <td>Brazil</td>\n",
       "      <td>3.96</td>\n",
       "      <td>649</td>\n",
       "      <td>0.99</td>\n",
       "      <td>1.0</td>\n",
       "      <td>0.99</td>\n",
       "      <td>39.62</td>\n",
       "      <td>13.88</td>\n",
       "      <td>3.96</td>\n",
       "    </tr>\n",
       "    <tr>\n",
       "      <th>3</th>\n",
       "      <td>1</td>\n",
       "      <td>Luís</td>\n",
       "      <td>Gonçalves</td>\n",
       "      <td>São José dos Campos</td>\n",
       "      <td>SP</td>\n",
       "      <td>Brazil</td>\n",
       "      <td>S</td>\n",
       "      <td>121</td>\n",
       "      <td>2010-06-13 00:00:00</td>\n",
       "      <td>2010</td>\n",
       "      <td>...</td>\n",
       "      <td>SP</td>\n",
       "      <td>Brazil</td>\n",
       "      <td>3.96</td>\n",
       "      <td>650</td>\n",
       "      <td>0.99</td>\n",
       "      <td>1.0</td>\n",
       "      <td>0.99</td>\n",
       "      <td>39.62</td>\n",
       "      <td>13.88</td>\n",
       "      <td>3.96</td>\n",
       "    </tr>\n",
       "    <tr>\n",
       "      <th>4</th>\n",
       "      <td>1</td>\n",
       "      <td>Luís</td>\n",
       "      <td>Gonçalves</td>\n",
       "      <td>São José dos Campos</td>\n",
       "      <td>SP</td>\n",
       "      <td>Brazil</td>\n",
       "      <td>S</td>\n",
       "      <td>121</td>\n",
       "      <td>2010-06-13 00:00:00</td>\n",
       "      <td>2010</td>\n",
       "      <td>...</td>\n",
       "      <td>SP</td>\n",
       "      <td>Brazil</td>\n",
       "      <td>3.96</td>\n",
       "      <td>651</td>\n",
       "      <td>0.99</td>\n",
       "      <td>1.0</td>\n",
       "      <td>0.99</td>\n",
       "      <td>39.62</td>\n",
       "      <td>13.88</td>\n",
       "      <td>3.96</td>\n",
       "    </tr>\n",
       "  </tbody>\n",
       "</table>\n",
       "<p>5 rows × 22 columns</p>\n",
       "</div>"
      ],
      "text/plain": [
       "   CustomerId FirstName   LastName                 City State Country  \\\n",
       "0           1      Luís  Gonçalves  São José dos Campos    SP  Brazil   \n",
       "1           1      Luís  Gonçalves  São José dos Campos    SP  Brazil   \n",
       "2           1      Luís  Gonçalves  São José dos Campos    SP  Brazil   \n",
       "3           1      Luís  Gonçalves  São José dos Campos    SP  Brazil   \n",
       "4           1      Luís  Gonçalves  São José dos Campos    SP  Brazil   \n",
       "\n",
       "  IsSouthAmerican  InvoiceId          InvoiceDate  YearInvoice  ...  \\\n",
       "0               S         98  2010-03-11 00:00:00         2010  ...   \n",
       "1               S         98  2010-03-11 00:00:00         2010  ...   \n",
       "2               S        121  2010-06-13 00:00:00         2010  ...   \n",
       "3               S        121  2010-06-13 00:00:00         2010  ...   \n",
       "4               S        121  2010-06-13 00:00:00         2010  ...   \n",
       "\n",
       "   BillingState BillingCountry Total InvoiceLineId  UnitPrice  Quantity  \\\n",
       "0            SP         Brazil  3.98           531       1.99       1.0   \n",
       "1            SP         Brazil  3.98           532       1.99       1.0   \n",
       "2            SP         Brazil  3.96           649       0.99       1.0   \n",
       "3            SP         Brazil  3.96           650       0.99       1.0   \n",
       "4            SP         Brazil  3.96           651       0.99       1.0   \n",
       "\n",
       "   TotalLine  TotalForCostomer  TotalForCostomerAndYear  \\\n",
       "0       1.99             39.62                    13.88   \n",
       "1       1.99             39.62                    13.88   \n",
       "2       0.99             39.62                    13.88   \n",
       "3       0.99             39.62                    13.88   \n",
       "4       0.99             39.62                    13.88   \n",
       "\n",
       "   TotalForCostomerAndMonth  \n",
       "0                      3.98  \n",
       "1                      3.98  \n",
       "2                      3.96  \n",
       "3                      3.96  \n",
       "4                      3.96  \n",
       "\n",
       "[5 rows x 22 columns]"
      ]
     },
     "execution_count": 39,
     "metadata": {},
     "output_type": "execute_result"
    }
   ],
   "source": [
    "df.head()"
   ]
  },
  {
   "cell_type": "markdown",
   "metadata": {},
   "source": [
    "The reason why use Pandas is because it allows you to export the resuls to a csv, json or spreadsheet format, to easily turn your query into a sql table / view"
   ]
  },
  {
   "cell_type": "code",
   "execution_count": 40,
   "metadata": {},
   "outputs": [],
   "source": [
    "df.to_csv('data.csv', index = False) #CSV\n",
    "df.to_excel('data.xlsx', index = False) #EXCEL\n",
    "df.to_json('data.json', orient='records') #JSON\n",
    "df.to_sql('data', con = engine, index = False, if_exists = 'replace') #SQL"
   ]
  },
  {
   "cell_type": "code",
   "execution_count": null,
   "metadata": {},
   "outputs": [],
   "source": []
  }
 ],
 "metadata": {
  "interpreter": {
   "hash": "31f2aee4e71d21fbe5cf8b01ff0e069b9275f58929596ceb00d14d90e3e16cd6"
  },
  "kernelspec": {
   "display_name": "Python 3.8.10 64-bit",
   "language": "python",
   "name": "python3"
  },
  "language_info": {
   "codemirror_mode": {
    "name": "ipython",
    "version": 3
   },
   "file_extension": ".py",
   "mimetype": "text/x-python",
   "name": "python",
   "nbconvert_exporter": "python",
   "pygments_lexer": "ipython3",
   "version": "3.8.10"
  },
  "orig_nbformat": 4
 },
 "nbformat": 4,
 "nbformat_minor": 2
}
